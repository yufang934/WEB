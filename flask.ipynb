{
  "nbformat": 4,
  "nbformat_minor": 0,
  "metadata": {
    "colab": {
      "name": "flask.ipynb",
      "provenance": [],
      "collapsed_sections": [],
      "authorship_tag": "ABX9TyPIAE7XGSx9u8bn2n25+O+1",
      "include_colab_link": true
    },
    "kernelspec": {
      "name": "python3",
      "display_name": "Python 3"
    }
  },
  "cells": [
    {
      "cell_type": "markdown",
      "metadata": {
        "id": "view-in-github",
        "colab_type": "text"
      },
      "source": [
        "<a href=\"https://colab.research.google.com/github/yufang934/WEB/blob/main/flask.ipynb\" target=\"_parent\"><img src=\"https://colab.research.google.com/assets/colab-badge.svg\" alt=\"Open In Colab\"/></a>"
      ]
    },
    {
      "cell_type": "code",
      "metadata": {
        "id": "O0u90QNRxOIw"
      },
      "source": [
        "from flask import Flask, render_template, Response, make_response, jsonify\n",
        "import cv2\n",
        "from camera import VideoCamera\n",
        "import numpy as np\n",
        "import os\n",
        "import time\n",
        "import pandas as pd\n",
        "from py2neo import Graph,  Node, Relationship, NodeMatcher"
      ],
      "execution_count": null,
      "outputs": []
    },
    {
      "cell_type": "code",
      "metadata": {
        "id": "x_GLsZXYxmiW"
      },
      "source": [
        "app = Flask(__name__)\n",
        "\n",
        "# graph = Graph(  \"bolt\",\n",
        "#           username=\"\",\n",
        "#           password=\"\")"
      ],
      "execution_count": null,
      "outputs": []
    },
    {
      "cell_type": "code",
      "metadata": {
        "id": "B1WnMC3txoXX"
      },
      "source": [
        "#首頁\n",
        "@app.route(\"/\")\n",
        "def demo4():\n",
        "    return render_template(\"demo4.html\")"
      ],
      "execution_count": null,
      "outputs": []
    },
    {
      "cell_type": "code",
      "metadata": {
        "id": "JHDkotKNxobr"
      },
      "source": [
        "#開啟鏡頭，開始偵測\n",
        "@app.route(\"/detect\", methods=['POST', 'GET'])\n",
        "def cam():\n",
        "    return render_template(\"cur_camer.html\")\n",
        "\n",
        "def gen(camera):\n",
        "    while True:\n",
        "        frame = camera.get_frame()\n",
        "        yield (b'--frame\\r\\n'\n",
        "            b'Content-Type: image/jpeg\\r\\n\\r\\n' + frame + b'\\r\\n\\r\\n')\n",
        "\n",
        "\n",
        "@app.route('/video_feed')\n",
        "def video_feed():\n",
        "    return Response(gen(VideoCamera()),\n",
        "                    mimetype='multipart/x-mixed-replace; boundary=frame')"
      ],
      "execution_count": null,
      "outputs": []
    },
    {
      "cell_type": "code",
      "metadata": {
        "id": "BGyxFIDlxoed"
      },
      "source": [
        "#推薦頁面\n",
        "\n",
        "#demo版\n",
        "@app.route('/recommend')\n",
        "def post():\n",
        "    Name_list1 = [\"網紗格紋5分袖微透膚連身裙\",\"雙面可穿鋪棉連帽大衣\",\"棒球外套\"]\n",
        "    Img_list1 = [\n",
        "        \"https://im.uniqlo.com/images/tw/gu/pc/goods/329750/sub/329750_sub37.jpg\",\n",
        "        \"https://im.uniqlo.com/images/tw/gu/pc/goods/329750/sub/329750_sub36.jpg\",\n",
        "        \"https://im.uniqlo.com/images/tw/gu/pc/goods/328071/item/03_328071.jpg\"\n",
        "    ]\n",
        "    Name_list2 = [\"牛仔不修邊迷你裙\",\"水洗加工牛仔緊身褲\"]\n",
        "    Img_list2 = [\n",
        "        \"https://im.uniqlo.com/images/tw/gu/pc/goods/326780/item/66_326780.jpg\",\n",
        "        \"https://im.uniqlo.com/images/tw/gu/pc/goods/326772/item/09_326772.jpg\"\n",
        "    ]\n",
        "    return render_template('recommend.html', data1=Name_list1, data2=Img_list1, data3=Name_list2, data4=Img_list2)\n",
        "\n",
        "#連結線上知識圖譜\n",
        "# @app.route('/recommend')\n",
        "# # 建立路由，指向網頁\n",
        "# def post():\n",
        "#     \"\"\"與fasttext交互\"\"\"\n",
        "#     # 接收數據(fasttext的資料)\n",
        "#     selection_name = \"寬褲\"\n",
        "#     label_name = '編號'\n",
        "#     kind_name = 'lower'\n",
        "\n",
        "#     # get 1 dimension match node (upper <=> lower <=> full)\n",
        "#     nodes_data1 = graph.run(\n",
        "#         \"MATCH (n:\" + label_name + \")-->(p:\" + label_name + \") WHERE p.Des=~'.*\" + selection_name + \".*' RETURN n\").data()\n",
        "#     a = pd.DataFrame(nodes_data1)\n",
        "#     # print(a)\n",
        "#     # print(\"*\"*100)\n",
        "\n",
        "#     Name_list1 = []\n",
        "#     Img_list1 = []\n",
        "\n",
        "#     for i in range(3):\n",
        "#         Name_list1.append(a.loc[i, \"n\"][\"Name\"])\n",
        "#         Img_list1.append(a.loc[i, \"n\"][\"Img\"])\n",
        "#         i += 1\n",
        "\n",
        "#     # ==============================================================================\n",
        "#     # get 2 dimension match node (same kind of clothes)\n",
        "#     if kind_name == \"lower\":\n",
        "#         nodes_data_all = graph.run(\n",
        "#             \"MATCH (n:\" + label_name + \")-->(p:\" + label_name + \") WHERE p.Des=~'.*L.*' RETURN n\").data()\n",
        "#         a = pd.DataFrame(nodes_data_all)\n",
        "#         # print(a)\n",
        "#         # print(\"*\"*100)\n",
        "\n",
        "#     elif kind_name == \"upper\":\n",
        "#         nodes_data_all = graph.run(\n",
        "#             \"MATCH (n:\" + label_name + \")-->(p:\" + label_name + \") WHERE p.Des=~'.*U.*' RETURN n\").data()\n",
        "#         a = pd.DataFrame(nodes_data_all)\n",
        "\n",
        "#     else:\n",
        "#         nodes_data_all = graph.run(\n",
        "#             \"MATCH (n:\" + label_name + \")-->(p:\" + label_name + \") WHERE p.Des=~'.*F.*' RETURN n\").data()\n",
        "#         a = pd.DataFrame(nodes_data_all)\n",
        "\n",
        "#     Name_list2 = []\n",
        "#     Img_list2 = []\n",
        "\n",
        "#     for i in range(2):\n",
        "#         Name_list2.append(a.loc[i, \"n\"][\"Name\"])\n",
        "#         Img_list2.append(a.loc[i, \"n\"][\"Img\"])\n",
        "#         i += 1\n",
        "\n",
        "#     return render_template('recommend.html', data1=Name_list1, data2=Img_list1, data3=Name_list2, data4=Img_list2)"
      ],
      "execution_count": null,
      "outputs": []
    },
    {
      "cell_type": "code",
      "metadata": {
        "id": "w28g4Rrpy7pr"
      },
      "source": [
        "if __name__ == '__main__':\n",
        "    app.run(debug=True)"
      ],
      "execution_count": null,
      "outputs": []
    }
  ]
}